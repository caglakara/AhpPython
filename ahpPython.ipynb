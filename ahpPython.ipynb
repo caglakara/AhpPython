{
 "cells": [
  {
   "cell_type": "code",
   "execution_count": 3,
   "id": "28e3f47a",
   "metadata": {},
   "outputs": [
    {
     "name": "stdout",
     "output_type": "stream",
     "text": [
      "Kaç kriteriniz var?: 4\n",
      "1. Kriteriniz ne?: A\n",
      "2. Kriteriniz ne?: B\n",
      "3. Kriteriniz ne?: C\n",
      "4. Kriteriniz ne?: D\n",
      "A kriteriniz B kriterine karşı ne kadar önemli?: 5\n",
      "A kriteriniz C kriterine karşı ne kadar önemli?: 4\n",
      "A kriteriniz D kriterine karşı ne kadar önemli?: 7\n",
      "B kriteriniz C kriterine karşı ne kadar önemli?: 0.5\n",
      "B kriteriniz D kriterine karşı ne kadar önemli?: 3\n",
      "C kriteriniz D kriterine karşı ne kadar önemli?: 3\n",
      "[0.6033792440743113, 0.13639013452914797, 0.19566623959000642, 0.06456438180653426]\n"
     ]
    }
   ],
   "source": [
    "import numpy as np\n",
    "\n",
    "n = int(input(\"Kaç kriteriniz var?: \")) \n",
    "kriterler = []\n",
    "toplam = 0\n",
    "toplam2 = 0\n",
    "totaltoplam = []\n",
    "totaltoplam2 = []\n",
    "\n",
    "for i in range(1,n+1): \n",
    "    a = input(\"{}. Kriteriniz ne?: \".format(i))\n",
    "    kriterler.append(a)\n",
    "    \n",
    "A = np.ones([n, n])\n",
    "\n",
    "for i in range(n): \n",
    "    for j in range(n):  \n",
    "        if i < j:\n",
    "            aij = input('{} kriteriniz {} kriterine karşı ne kadar önemli?: '.format(kriterler[i], kriterler[j]))\n",
    "            A[i][j] = float(aij) \n",
    "            A[j][i] = 1 / float(aij)\n",
    "\n",
    "for i in range(n): \n",
    "    toplam = 0  \n",
    "    for j in range(n):  \n",
    "        toplam += A[j][i]  \n",
    "    totaltoplam.append(toplam)  \n",
    "\n",
    "\n",
    "for i in range(n):\n",
    "    for j in range(n):\n",
    "        A[j,i] = A[j,i] / totaltoplam[i]\n",
    "            \n",
    "    \n",
    "for i in range(n): \n",
    "    toplam2 = 0  \n",
    "    for j in range(n):  \n",
    "        toplam2 += A[i][j]  \n",
    "    totaltoplam2.append(toplam2/n)\n",
    "    \n",
    "print(totaltoplam2)    \n",
    "    \n",
    "    "
   ]
  },
  {
   "cell_type": "code",
   "execution_count": null,
   "id": "0b7cac31",
   "metadata": {},
   "outputs": [],
   "source": []
  }
 ],
 "metadata": {
  "kernelspec": {
   "display_name": "Python 3 (ipykernel)",
   "language": "python",
   "name": "python3"
  },
  "language_info": {
   "codemirror_mode": {
    "name": "ipython",
    "version": 3
   },
   "file_extension": ".py",
   "mimetype": "text/x-python",
   "name": "python",
   "nbconvert_exporter": "python",
   "pygments_lexer": "ipython3",
   "version": "3.11.5"
  }
 },
 "nbformat": 4,
 "nbformat_minor": 5
}
